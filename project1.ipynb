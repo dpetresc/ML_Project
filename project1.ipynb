{
 "cells": [
  {
   "cell_type": "markdown",
   "metadata": {},
   "source": [
    "# Guideline :\n",
    "We will first clean the dataset in order to have a suitable one to work with, then we will try to predict the y_labels.\n",
    "\n",
    "During the lab sessions, we have seen different regression techniques :\n",
    "- Linear regression using gradient descent\n",
    "- Linear regression using stochastic gradient descent\n",
    "- Least squares regression using normal equations\n",
    "- Ridge regression using normal equations\n",
    "- Logistic regression using gradient descent or SGD\n",
    "- Regularized logistic regression using gradient descent or SGD\n",
    "\n",
    "In order to determine which technique is the best for our data model, for each one we will:\n",
    "- test the regression model on the data\n",
    "- compute the training and test accuracy with RMSE\n",
    "- determine how stable our model fit to the data, using the average, the mean, the min and max accuracy.\n",
    "\n",
    "Finally, we will select afterwards the best model with the right parameters, and use this model to predict the y_label values in the given csv file for us to complete."
   ]
  },
  {
   "cell_type": "code",
   "execution_count": null,
   "metadata": {},
   "outputs": [],
   "source": [
    "import sys\n",
    "sys.path.insert(0, 'scripts')\n",
    "from costs import *\n",
    "from preprocessing import *\n",
    "from proj1_helpers import *\n",
    "from regressions import * \n",
    "from plot import *\n",
    "from helpers import *\n",
    "from cross_validation import *"
   ]
  },
  {
   "cell_type": "markdown",
   "metadata": {},
   "source": [
    "## 1. Data preprocessing"
   ]
  },
  {
   "cell_type": "code",
   "execution_count": null,
   "metadata": {},
   "outputs": [],
   "source": [
    "y, X, X_mean, X_std, ids = process_data('Data/train.csv')"
   ]
  },
  {
   "cell_type": "markdown",
   "metadata": {},
   "source": [
    "## 2. Regression Techniques\n"
   ]
  },
  {
   "cell_type": "markdown",
   "metadata": {},
   "source": [
    "### 2.1 Linear regression using gradient descent"
   ]
  },
  {
   "cell_type": "code",
   "execution_count": null,
   "metadata": {},
   "outputs": [],
   "source": [
    "gamma = 0.01\n",
    "max_iters = 500\n",
    "cross_validation_demo(y, X, least_squares_GD, initial_w=None, max_iters=max_iters, gamma=gamma)"
   ]
  },
  {
   "cell_type": "markdown",
   "metadata": {},
   "source": [
    "### 2.2. Linear regression using stochastic gradient descent"
   ]
  },
  {
   "cell_type": "code",
   "execution_count": null,
   "metadata": {},
   "outputs": [],
   "source": [
    "gamma = 0.01\n",
    "max_iters = 500\n",
    "cross_validation_demo(y, X, least_squares_SGD, initial_w=None, max_iters=max_iters, gamma=gamma)"
   ]
  },
  {
   "cell_type": "markdown",
   "metadata": {},
   "source": [
    "### 2.3. Least squares regression using normal equations"
   ]
  },
  {
   "cell_type": "code",
   "execution_count": null,
   "metadata": {},
   "outputs": [],
   "source": [
    "cross_validation_demo(y, X, least_squares)"
   ]
  },
  {
   "cell_type": "markdown",
   "metadata": {},
   "source": [
    "### 2.4. Ridge regression using normal equations"
   ]
  },
  {
   "cell_type": "code",
   "execution_count": null,
   "metadata": {
    "scrolled": true
   },
   "outputs": [],
   "source": [
    "best_lambdas, global_min_tr, global_min_te, global_w = cross_validation_ridge_demo(y, X)"
   ]
  },
  {
   "cell_type": "code",
   "execution_count": null,
   "metadata": {},
   "outputs": [],
   "source": [
    "global_w[0]"
   ]
  },
  {
   "cell_type": "code",
   "execution_count": null,
   "metadata": {},
   "outputs": [],
   "source": [
    "y_test, X_test, X_mean_test, X_std_test, ids_test = process_data('Data/test.csv')\n",
    "X_test.shape"
   ]
  },
  {
   "cell_type": "code",
   "execution_count": null,
   "metadata": {},
   "outputs": [],
   "source": [
    "_, X_ones_test = build_model_data(y_test, X_test)\n",
    "y_pred = predict_labels(global_w[0], X_ones_test)\n",
    "y_pred.shape"
   ]
  },
  {
   "cell_type": "code",
   "execution_count": null,
   "metadata": {},
   "outputs": [],
   "source": [
    "create_csv_submission(ids_test, y_pred, 'brute_force_one.csv')"
   ]
  },
  {
   "cell_type": "code",
   "execution_count": null,
   "metadata": {},
   "outputs": [],
   "source": []
  },
  {
   "cell_type": "markdown",
   "metadata": {},
   "source": [
    "### 2.5. Logistic regression using gradient descent or SGD (to determine)"
   ]
  },
  {
   "cell_type": "markdown",
   "metadata": {},
   "source": [
    "### 2.6. Regularized logistic regression using gradient descent or SGD"
   ]
  },
  {
   "cell_type": "markdown",
   "metadata": {},
   "source": [
    "## 3. Conclusion and choice of the best model"
   ]
  },
  {
   "cell_type": "code",
   "execution_count": null,
   "metadata": {
    "scrolled": true
   },
   "outputs": [],
   "source": []
  },
  {
   "cell_type": "code",
   "execution_count": null,
   "metadata": {},
   "outputs": [],
   "source": []
  }
 ],
 "metadata": {
  "kernelspec": {
   "display_name": "Python [default]",
   "language": "python",
   "name": "python3"
  },
  "language_info": {
   "codemirror_mode": {
    "name": "ipython",
    "version": 3
   },
   "file_extension": ".py",
   "mimetype": "text/x-python",
   "name": "python",
   "nbconvert_exporter": "python",
   "pygments_lexer": "ipython3",
   "version": "3.6.5"
  }
 },
 "nbformat": 4,
 "nbformat_minor": 2
}
